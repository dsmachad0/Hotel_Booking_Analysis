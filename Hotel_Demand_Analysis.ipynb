{
    "metadata": {
        "kernelspec": {
            "name": "SQL",
            "display_name": "SQL",
            "language": "sql"
        },
        "language_info": {
            "name": "sql",
            "version": ""
        }
    },
    "nbformat_minor": 2,
    "nbformat": 4,
    "cells": [
        {
            "cell_type": "markdown",
            "source": [
                "# Hotel Booking Demand Data Analysis\n",
                "\n",
                "It is vacation time! And today we are using SQL on our “Hotel Booking Demand” dataset, to find some characteristics in the booking demand of two types of hotels. We will be comparing the guests’ choices of a city hotel and a resort hotel and answer the following questions:\n",
                "\n",
                "- What is the high season for each hotel?\n",
                "- What is the monthly average number of guests?\n",
                "- What is the best time of the year to book a hotel room?\n",
                "\n",
                "Finally, we will create visualizations to show our findings."
            ],
            "metadata": {
                "azdata_cell_guid": "4548bc51-d28a-4dae-8694-3f75f884f93d"
            },
            "attachments": {}
        },
        {
            "cell_type": "markdown",
            "source": [
                "## 1\\. Exploring our data.\n",
                "\n",
                "First, let's take a glance at our dataset and see what kind of information it has available to us. Our database is relatively large, with 119.390 rows, so we will be just showing the 5 first results for each column."
            ],
            "metadata": {
                "azdata_cell_guid": "d2fc21ec-c44c-447b-b394-116635f7ce9b"
            },
            "attachments": {}
        },
        {
            "cell_type": "code",
            "source": [
                "-- Selecting top 5 rows of all columns\r\n",
                "SELECT TOP(5) *\r\n",
                "FROM Projects.dbo.hotel_bookings"
            ],
            "metadata": {
                "azdata_cell_guid": "030d0565-013b-452c-b128-d3b8835c4ebd"
            },
            "outputs": [
                {
                    "output_type": "display_data",
                    "data": {
                        "text/html": "(5 rows affected)"
                    },
                    "metadata": {}
                },
                {
                    "output_type": "display_data",
                    "data": {
                        "text/html": "Total execution time: 00:00:00.019"
                    },
                    "metadata": {}
                },
                {
                    "output_type": "execute_result",
                    "execution_count": 1,
                    "data": {
                        "application/vnd.dataresource+json": {
                            "schema": {
                                "fields": [
                                    {
                                        "name": "hotel"
                                    },
                                    {
                                        "name": "is_canceled"
                                    },
                                    {
                                        "name": "lead_time"
                                    },
                                    {
                                        "name": "arrival_date_year"
                                    },
                                    {
                                        "name": "arrival_date_month"
                                    },
                                    {
                                        "name": "arrival_date_week_number"
                                    },
                                    {
                                        "name": "arrival_date_day_of_month"
                                    },
                                    {
                                        "name": "stays_in_weekend_nights"
                                    },
                                    {
                                        "name": "stays_in_week_nights"
                                    },
                                    {
                                        "name": "adults"
                                    },
                                    {
                                        "name": "children"
                                    },
                                    {
                                        "name": "babies"
                                    },
                                    {
                                        "name": "meal"
                                    },
                                    {
                                        "name": "country"
                                    },
                                    {
                                        "name": "market_segment"
                                    },
                                    {
                                        "name": "distribution_channel"
                                    },
                                    {
                                        "name": "is_repeated_guest"
                                    },
                                    {
                                        "name": "previous_cancellations"
                                    },
                                    {
                                        "name": "previous_bookings_not_canceled"
                                    },
                                    {
                                        "name": "reserved_room_type"
                                    },
                                    {
                                        "name": "assigned_room_type"
                                    },
                                    {
                                        "name": "booking_changes"
                                    },
                                    {
                                        "name": "deposit_type"
                                    },
                                    {
                                        "name": "agent"
                                    },
                                    {
                                        "name": "company"
                                    },
                                    {
                                        "name": "days_in_waiting_list"
                                    },
                                    {
                                        "name": "customer_type"
                                    },
                                    {
                                        "name": "adr"
                                    },
                                    {
                                        "name": "required_car_parking_spaces"
                                    },
                                    {
                                        "name": "total_of_special_requests"
                                    },
                                    {
                                        "name": "reservation_status"
                                    },
                                    {
                                        "name": "reservation_status_date"
                                    }
                                ]
                            },
                            "data": [
                                {
                                    "0": "Resort Hotel",
                                    "1": "0",
                                    "2": "342",
                                    "3": "2015",
                                    "4": "July",
                                    "5": "27",
                                    "6": "1",
                                    "7": "0",
                                    "8": "0",
                                    "9": "2",
                                    "10": "0",
                                    "11": "0",
                                    "12": "BB",
                                    "13": "PRT",
                                    "14": "Direct",
                                    "15": "Direct",
                                    "16": "0",
                                    "17": "0",
                                    "18": "0",
                                    "19": "C",
                                    "20": "C",
                                    "21": "3",
                                    "22": "No Deposit",
                                    "23": "NULL",
                                    "24": "NULL",
                                    "25": "0",
                                    "26": "Transient",
                                    "27": "0",
                                    "28": "0",
                                    "29": "0",
                                    "30": "Check-Out",
                                    "31": "7/1/2015"
                                },
                                {
                                    "0": "Resort Hotel",
                                    "1": "0",
                                    "2": "737",
                                    "3": "2015",
                                    "4": "July",
                                    "5": "27",
                                    "6": "1",
                                    "7": "0",
                                    "8": "0",
                                    "9": "2",
                                    "10": "0",
                                    "11": "0",
                                    "12": "BB",
                                    "13": "PRT",
                                    "14": "Direct",
                                    "15": "Direct",
                                    "16": "0",
                                    "17": "0",
                                    "18": "0",
                                    "19": "C",
                                    "20": "C",
                                    "21": "4",
                                    "22": "No Deposit",
                                    "23": "NULL",
                                    "24": "NULL",
                                    "25": "0",
                                    "26": "Transient",
                                    "27": "0",
                                    "28": "0",
                                    "29": "0",
                                    "30": "Check-Out",
                                    "31": "7/1/2015"
                                },
                                {
                                    "0": "Resort Hotel",
                                    "1": "0",
                                    "2": "7",
                                    "3": "2015",
                                    "4": "July",
                                    "5": "27",
                                    "6": "1",
                                    "7": "0",
                                    "8": "1",
                                    "9": "1",
                                    "10": "0",
                                    "11": "0",
                                    "12": "BB",
                                    "13": "GBR",
                                    "14": "Direct",
                                    "15": "Direct",
                                    "16": "0",
                                    "17": "0",
                                    "18": "0",
                                    "19": "A",
                                    "20": "C",
                                    "21": "0",
                                    "22": "No Deposit",
                                    "23": "NULL",
                                    "24": "NULL",
                                    "25": "0",
                                    "26": "Transient",
                                    "27": "75",
                                    "28": "0",
                                    "29": "0",
                                    "30": "Check-Out",
                                    "31": "7/2/2015"
                                },
                                {
                                    "0": "Resort Hotel",
                                    "1": "0",
                                    "2": "13",
                                    "3": "2015",
                                    "4": "July",
                                    "5": "27",
                                    "6": "1",
                                    "7": "0",
                                    "8": "1",
                                    "9": "1",
                                    "10": "0",
                                    "11": "0",
                                    "12": "BB",
                                    "13": "GBR",
                                    "14": "Corporate",
                                    "15": "Corporate",
                                    "16": "0",
                                    "17": "0",
                                    "18": "0",
                                    "19": "A",
                                    "20": "A",
                                    "21": "0",
                                    "22": "No Deposit",
                                    "23": "304",
                                    "24": "NULL",
                                    "25": "0",
                                    "26": "Transient",
                                    "27": "75",
                                    "28": "0",
                                    "29": "0",
                                    "30": "Check-Out",
                                    "31": "7/2/2015"
                                },
                                {
                                    "0": "Resort Hotel",
                                    "1": "0",
                                    "2": "14",
                                    "3": "2015",
                                    "4": "July",
                                    "5": "27",
                                    "6": "1",
                                    "7": "0",
                                    "8": "2",
                                    "9": "2",
                                    "10": "0",
                                    "11": "0",
                                    "12": "BB",
                                    "13": "GBR",
                                    "14": "Online TA",
                                    "15": "TA/TO",
                                    "16": "0",
                                    "17": "0",
                                    "18": "0",
                                    "19": "A",
                                    "20": "A",
                                    "21": "0",
                                    "22": "No Deposit",
                                    "23": "240",
                                    "24": "NULL",
                                    "25": "0",
                                    "26": "Transient",
                                    "27": "98",
                                    "28": "0",
                                    "29": "1",
                                    "30": "Check-Out",
                                    "31": "7/3/2015"
                                }
                            ]
                        },
                        "text/html": "<table><tr><th>hotel</th><th>is_canceled</th><th>lead_time</th><th>arrival_date_year</th><th>arrival_date_month</th><th>arrival_date_week_number</th><th>arrival_date_day_of_month</th><th>stays_in_weekend_nights</th><th>stays_in_week_nights</th><th>adults</th><th>children</th><th>babies</th><th>meal</th><th>country</th><th>market_segment</th><th>distribution_channel</th><th>is_repeated_guest</th><th>previous_cancellations</th><th>previous_bookings_not_canceled</th><th>reserved_room_type</th><th>assigned_room_type</th><th>booking_changes</th><th>deposit_type</th><th>agent</th><th>company</th><th>days_in_waiting_list</th><th>customer_type</th><th>adr</th><th>required_car_parking_spaces</th><th>total_of_special_requests</th><th>reservation_status</th><th>reservation_status_date</th></tr><tr><td>Resort Hotel</td><td>0</td><td>342</td><td>2015</td><td>July</td><td>27</td><td>1</td><td>0</td><td>0</td><td>2</td><td>0</td><td>0</td><td>BB</td><td>PRT</td><td>Direct</td><td>Direct</td><td>0</td><td>0</td><td>0</td><td>C</td><td>C</td><td>3</td><td>No Deposit</td><td>NULL</td><td>NULL</td><td>0</td><td>Transient</td><td>0</td><td>0</td><td>0</td><td>Check-Out</td><td>7/1/2015</td></tr><tr><td>Resort Hotel</td><td>0</td><td>737</td><td>2015</td><td>July</td><td>27</td><td>1</td><td>0</td><td>0</td><td>2</td><td>0</td><td>0</td><td>BB</td><td>PRT</td><td>Direct</td><td>Direct</td><td>0</td><td>0</td><td>0</td><td>C</td><td>C</td><td>4</td><td>No Deposit</td><td>NULL</td><td>NULL</td><td>0</td><td>Transient</td><td>0</td><td>0</td><td>0</td><td>Check-Out</td><td>7/1/2015</td></tr><tr><td>Resort Hotel</td><td>0</td><td>7</td><td>2015</td><td>July</td><td>27</td><td>1</td><td>0</td><td>1</td><td>1</td><td>0</td><td>0</td><td>BB</td><td>GBR</td><td>Direct</td><td>Direct</td><td>0</td><td>0</td><td>0</td><td>A</td><td>C</td><td>0</td><td>No Deposit</td><td>NULL</td><td>NULL</td><td>0</td><td>Transient</td><td>75</td><td>0</td><td>0</td><td>Check-Out</td><td>7/2/2015</td></tr><tr><td>Resort Hotel</td><td>0</td><td>13</td><td>2015</td><td>July</td><td>27</td><td>1</td><td>0</td><td>1</td><td>1</td><td>0</td><td>0</td><td>BB</td><td>GBR</td><td>Corporate</td><td>Corporate</td><td>0</td><td>0</td><td>0</td><td>A</td><td>A</td><td>0</td><td>No Deposit</td><td>304</td><td>NULL</td><td>0</td><td>Transient</td><td>75</td><td>0</td><td>0</td><td>Check-Out</td><td>7/2/2015</td></tr><tr><td>Resort Hotel</td><td>0</td><td>14</td><td>2015</td><td>July</td><td>27</td><td>1</td><td>0</td><td>2</td><td>2</td><td>0</td><td>0</td><td>BB</td><td>GBR</td><td>Online TA</td><td>TA/TO</td><td>0</td><td>0</td><td>0</td><td>A</td><td>A</td><td>0</td><td>No Deposit</td><td>240</td><td>NULL</td><td>0</td><td>Transient</td><td>98</td><td>0</td><td>1</td><td>Check-Out</td><td>7/3/2015</td></tr></table>"
                    },
                    "metadata": {}
                }
            ],
            "execution_count": 1
        },
        {
            "cell_type": "markdown",
            "source": [
                "- Refer to the Data Dictionary for more detailed information about the dataset.\n",
                "\n",
                "Now that we have an idea of the content of the database, we can start our exploratory analysis. \n",
                "\n",
                "## 2\\. What is the high season for each hotel?\n",
                "\n",
                "To find the high season for each hotel, we will need to analyze the number of reservations for each month according to each hotel. Since this database contains data from July 2015 to August 2017, we will use the overall number of reservations through the years to find when is the high season. \n",
                "\n",
                "Let's select the number of reservations for both hotel types."
            ],
            "metadata": {
                "azdata_cell_guid": "6315a7b2-9b3d-4c4e-901f-4fe5ed457bc3"
            },
            "attachments": {}
        },
        {
            "cell_type": "code",
            "source": [
                "--Selecting the hotel type, month and number of reservations\r\n",
                "--Grouped by the hotel type, month, and number of reservations\r\n",
                "--City Hotel query:\r\n",
                "SELECT hotel, arrival_date_month, COUNT(*) as reservations \r\n",
                "FROM [dbo].[hotel_bookings]\r\n",
                "WHERE hotel = 'City Hotel'\r\n",
                "GROUP BY hotel, arrival_date_month\r\n",
                "ORDER BY hotel, reservations DESC \r\n",
                "--Resort Hotel query:\r\n",
                "SELECT hotel, arrival_date_month, COUNT(*) as reservations \r\n",
                "FROM [dbo].[hotel_bookings]\r\n",
                "WHERE hotel = 'Resort Hotel'\r\n",
                "GROUP BY hotel, arrival_date_month\r\n",
                "ORDER BY hotel, reservations DESC "
            ],
            "metadata": {
                "azdata_cell_guid": "48dec48d-9894-4610-b7b9-8901bf3f9366"
            },
            "outputs": [
                {
                    "output_type": "display_data",
                    "data": {
                        "text/html": "(12 rows affected)"
                    },
                    "metadata": {}
                },
                {
                    "output_type": "display_data",
                    "data": {
                        "text/html": "(12 rows affected)"
                    },
                    "metadata": {}
                },
                {
                    "output_type": "display_data",
                    "data": {
                        "text/html": "Total execution time: 00:00:00.205"
                    },
                    "metadata": {}
                },
                {
                    "output_type": "execute_result",
                    "metadata": {},
                    "execution_count": 10,
                    "data": {
                        "application/vnd.dataresource+json": {
                            "schema": {
                                "fields": [
                                    {
                                        "name": "hotel"
                                    },
                                    {
                                        "name": "arrival_date_month"
                                    },
                                    {
                                        "name": "reservations"
                                    }
                                ]
                            },
                            "data": [
                                {
                                    "0": "City Hotel",
                                    "1": "August",
                                    "2": "8983"
                                },
                                {
                                    "0": "City Hotel",
                                    "1": "May",
                                    "2": "8232"
                                },
                                {
                                    "0": "City Hotel",
                                    "1": "July",
                                    "2": "8088"
                                },
                                {
                                    "0": "City Hotel",
                                    "1": "June",
                                    "2": "7894"
                                },
                                {
                                    "0": "City Hotel",
                                    "1": "October",
                                    "2": "7605"
                                },
                                {
                                    "0": "City Hotel",
                                    "1": "April",
                                    "2": "7480"
                                },
                                {
                                    "0": "City Hotel",
                                    "1": "September",
                                    "2": "7400"
                                },
                                {
                                    "0": "City Hotel",
                                    "1": "March",
                                    "2": "6458"
                                },
                                {
                                    "0": "City Hotel",
                                    "1": "February",
                                    "2": "4965"
                                },
                                {
                                    "0": "City Hotel",
                                    "1": "November",
                                    "2": "4357"
                                },
                                {
                                    "0": "City Hotel",
                                    "1": "December",
                                    "2": "4132"
                                },
                                {
                                    "0": "City Hotel",
                                    "1": "January",
                                    "2": "3736"
                                }
                            ]
                        },
                        "text/html": [
                            "<table>",
                            "<tr><th>hotel</th><th>arrival_date_month</th><th>reservations</th></tr>",
                            "<tr><td>City Hotel</td><td>August</td><td>8983</td></tr>",
                            "<tr><td>City Hotel</td><td>May</td><td>8232</td></tr>",
                            "<tr><td>City Hotel</td><td>July</td><td>8088</td></tr>",
                            "<tr><td>City Hotel</td><td>June</td><td>7894</td></tr>",
                            "<tr><td>City Hotel</td><td>October</td><td>7605</td></tr>",
                            "<tr><td>City Hotel</td><td>April</td><td>7480</td></tr>",
                            "<tr><td>City Hotel</td><td>September</td><td>7400</td></tr>",
                            "<tr><td>City Hotel</td><td>March</td><td>6458</td></tr>",
                            "<tr><td>City Hotel</td><td>February</td><td>4965</td></tr>",
                            "<tr><td>City Hotel</td><td>November</td><td>4357</td></tr>",
                            "<tr><td>City Hotel</td><td>December</td><td>4132</td></tr>",
                            "<tr><td>City Hotel</td><td>January</td><td>3736</td></tr>",
                            "</table>"
                        ]
                    }
                },
                {
                    "output_type": "execute_result",
                    "metadata": {},
                    "execution_count": 10,
                    "data": {
                        "application/vnd.dataresource+json": {
                            "schema": {
                                "fields": [
                                    {
                                        "name": "hotel"
                                    },
                                    {
                                        "name": "arrival_date_month"
                                    },
                                    {
                                        "name": "reservations"
                                    }
                                ]
                            },
                            "data": [
                                {
                                    "0": "Resort Hotel",
                                    "1": "August",
                                    "2": "4894"
                                },
                                {
                                    "0": "Resort Hotel",
                                    "1": "July",
                                    "2": "4573"
                                },
                                {
                                    "0": "Resort Hotel",
                                    "1": "April",
                                    "2": "3609"
                                },
                                {
                                    "0": "Resort Hotel",
                                    "1": "May",
                                    "2": "3559"
                                },
                                {
                                    "0": "Resort Hotel",
                                    "1": "October",
                                    "2": "3555"
                                },
                                {
                                    "0": "Resort Hotel",
                                    "1": "March",
                                    "2": "3336"
                                },
                                {
                                    "0": "Resort Hotel",
                                    "1": "September",
                                    "2": "3108"
                                },
                                {
                                    "0": "Resort Hotel",
                                    "1": "February",
                                    "2": "3103"
                                },
                                {
                                    "0": "Resort Hotel",
                                    "1": "June",
                                    "2": "3045"
                                },
                                {
                                    "0": "Resort Hotel",
                                    "1": "December",
                                    "2": "2648"
                                },
                                {
                                    "0": "Resort Hotel",
                                    "1": "November",
                                    "2": "2437"
                                },
                                {
                                    "0": "Resort Hotel",
                                    "1": "January",
                                    "2": "2193"
                                }
                            ]
                        },
                        "text/html": [
                            "<table>",
                            "<tr><th>hotel</th><th>arrival_date_month</th><th>reservations</th></tr>",
                            "<tr><td>Resort Hotel</td><td>August</td><td>4894</td></tr>",
                            "<tr><td>Resort Hotel</td><td>July</td><td>4573</td></tr>",
                            "<tr><td>Resort Hotel</td><td>April</td><td>3609</td></tr>",
                            "<tr><td>Resort Hotel</td><td>May</td><td>3559</td></tr>",
                            "<tr><td>Resort Hotel</td><td>October</td><td>3555</td></tr>",
                            "<tr><td>Resort Hotel</td><td>March</td><td>3336</td></tr>",
                            "<tr><td>Resort Hotel</td><td>September</td><td>3108</td></tr>",
                            "<tr><td>Resort Hotel</td><td>February</td><td>3103</td></tr>",
                            "<tr><td>Resort Hotel</td><td>June</td><td>3045</td></tr>",
                            "<tr><td>Resort Hotel</td><td>December</td><td>2648</td></tr>",
                            "<tr><td>Resort Hotel</td><td>November</td><td>2437</td></tr>",
                            "<tr><td>Resort Hotel</td><td>January</td><td>2193</td></tr>",
                            "</table>"
                        ]
                    }
                }
            ],
            "execution_count": 10
        },
        {
            "cell_type": "markdown",
            "source": [
                "It seems that August is the high season for each City Hotel and Resort Hotel. We can also notice a high demand in other months like May and July, so we can tell the high season is during summer."
            ],
            "metadata": {
                "azdata_cell_guid": "9f565a14-0787-4b98-81b9-ef98e396cc1e"
            },
            "attachments": {}
        },
        {
            "cell_type": "markdown",
            "source": [
                "## 3\\. What is the monthly average number of guests?\n",
                "\n",
                "In our database, we have the number of adults, children, and babies of each reservation. To find the average number of guests, we will add the number of people of each reservation and divide it by the number of months. Since our dataset it is from July 2015 to August 2017, we will be using the year 2016 to find the average number of guests."
            ],
            "metadata": {
                "azdata_cell_guid": "e1e6550c-4640-4ab4-908f-667d303ed4a3"
            },
            "attachments": {}
        },
        {
            "cell_type": "code",
            "source": [
                "--City Hotel query:\r\n",
                "SELECT hotel, arrival_date_month ,(SUM(adults)+SUM(children)+SUM(babies))/12 as monthly_average\r\n",
                "FROM [dbo].[hotel_bookings]\r\n",
                "WHERE arrival_date_year = 2016 AND hotel = 'City Hotel'\r\n",
                "GROUP BY hotel, arrival_date_month\r\n",
                "ORDER BY monthly_average DESC\r\n",
                "--Resort Hotel query:\r\n",
                "SELECT hotel, arrival_date_month ,(SUM(adults)+SUM(children)+SUM(babies))/12 as monthly_average\r\n",
                "FROM [dbo].[hotel_bookings]\r\n",
                "WHERE arrival_date_year = 2016 AND hotel = 'Resort Hotel'\r\n",
                "GROUP BY hotel, arrival_date_month\r\n",
                "ORDER BY monthly_average DESC"
            ],
            "metadata": {
                "azdata_cell_guid": "c76beca9-aa83-47e6-b3fa-faf71f8fee3a"
            },
            "outputs": [
                {
                    "output_type": "display_data",
                    "data": {
                        "text/html": "(12 rows affected)"
                    },
                    "metadata": {}
                },
                {
                    "output_type": "display_data",
                    "data": {
                        "text/html": "(12 rows affected)"
                    },
                    "metadata": {}
                },
                {
                    "output_type": "display_data",
                    "data": {
                        "text/html": "Total execution time: 00:00:00.149"
                    },
                    "metadata": {}
                },
                {
                    "output_type": "execute_result",
                    "metadata": {},
                    "execution_count": 8,
                    "data": {
                        "application/vnd.dataresource+json": {
                            "schema": {
                                "fields": [
                                    {
                                        "name": "hotel"
                                    },
                                    {
                                        "name": "arrival_date_month"
                                    },
                                    {
                                        "name": "monthly_average"
                                    }
                                ]
                            },
                            "data": [
                                {
                                    "0": "City Hotel",
                                    "1": "October",
                                    "2": "675"
                                },
                                {
                                    "0": "City Hotel",
                                    "1": "August",
                                    "2": "638"
                                },
                                {
                                    "0": "City Hotel",
                                    "1": "September",
                                    "2": "631"
                                },
                                {
                                    "0": "City Hotel",
                                    "1": "June",
                                    "2": "604"
                                },
                                {
                                    "0": "City Hotel",
                                    "1": "April",
                                    "2": "585"
                                },
                                {
                                    "0": "City Hotel",
                                    "1": "May",
                                    "2": "577"
                                },
                                {
                                    "0": "City Hotel",
                                    "1": "July",
                                    "2": "571"
                                },
                                {
                                    "0": "City Hotel",
                                    "1": "March",
                                    "2": "491"
                                },
                                {
                                    "0": "City Hotel",
                                    "1": "November",
                                    "2": "464"
                                },
                                {
                                    "0": "City Hotel",
                                    "1": "December",
                                    "2": "424"
                                },
                                {
                                    "0": "City Hotel",
                                    "1": "February",
                                    "2": "360"
                                },
                                {
                                    "0": "City Hotel",
                                    "1": "January",
                                    "2": "190"
                                }
                            ]
                        },
                        "text/html": [
                            "<table>",
                            "<tr><th>hotel</th><th>arrival_date_month</th><th>monthly_average</th></tr>",
                            "<tr><td>City Hotel</td><td>October</td><td>675</td></tr>",
                            "<tr><td>City Hotel</td><td>August</td><td>638</td></tr>",
                            "<tr><td>City Hotel</td><td>September</td><td>631</td></tr>",
                            "<tr><td>City Hotel</td><td>June</td><td>604</td></tr>",
                            "<tr><td>City Hotel</td><td>April</td><td>585</td></tr>",
                            "<tr><td>City Hotel</td><td>May</td><td>577</td></tr>",
                            "<tr><td>City Hotel</td><td>July</td><td>571</td></tr>",
                            "<tr><td>City Hotel</td><td>March</td><td>491</td></tr>",
                            "<tr><td>City Hotel</td><td>November</td><td>464</td></tr>",
                            "<tr><td>City Hotel</td><td>December</td><td>424</td></tr>",
                            "<tr><td>City Hotel</td><td>February</td><td>360</td></tr>",
                            "<tr><td>City Hotel</td><td>January</td><td>190</td></tr>",
                            "</table>"
                        ]
                    }
                },
                {
                    "output_type": "execute_result",
                    "metadata": {},
                    "execution_count": 8,
                    "data": {
                        "application/vnd.dataresource+json": {
                            "schema": {
                                "fields": [
                                    {
                                        "name": "hotel"
                                    },
                                    {
                                        "name": "arrival_date_month"
                                    },
                                    {
                                        "name": "monthly_average"
                                    }
                                ]
                            },
                            "data": [
                                {
                                    "0": "Resort Hotel",
                                    "1": "August",
                                    "2": "328"
                                },
                                {
                                    "0": "Resort Hotel",
                                    "1": "October",
                                    "2": "321"
                                },
                                {
                                    "0": "Resort Hotel",
                                    "1": "May",
                                    "2": "290"
                                },
                                {
                                    "0": "Resort Hotel",
                                    "1": "April",
                                    "2": "287"
                                },
                                {
                                    "0": "Resort Hotel",
                                    "1": "March",
                                    "2": "280"
                                },
                                {
                                    "0": "Resort Hotel",
                                    "1": "July",
                                    "2": "270"
                                },
                                {
                                    "0": "Resort Hotel",
                                    "1": "September",
                                    "2": "255"
                                },
                                {
                                    "0": "Resort Hotel",
                                    "1": "February",
                                    "2": "240"
                                },
                                {
                                    "0": "Resort Hotel",
                                    "1": "June",
                                    "2": "237"
                                },
                                {
                                    "0": "Resort Hotel",
                                    "1": "December",
                                    "2": "219"
                                },
                                {
                                    "0": "Resort Hotel",
                                    "1": "November",
                                    "2": "202"
                                },
                                {
                                    "0": "Resort Hotel",
                                    "1": "January",
                                    "2": "129"
                                }
                            ]
                        },
                        "text/html": [
                            "<table>",
                            "<tr><th>hotel</th><th>arrival_date_month</th><th>monthly_average</th></tr>",
                            "<tr><td>Resort Hotel</td><td>August</td><td>328</td></tr>",
                            "<tr><td>Resort Hotel</td><td>October</td><td>321</td></tr>",
                            "<tr><td>Resort Hotel</td><td>May</td><td>290</td></tr>",
                            "<tr><td>Resort Hotel</td><td>April</td><td>287</td></tr>",
                            "<tr><td>Resort Hotel</td><td>March</td><td>280</td></tr>",
                            "<tr><td>Resort Hotel</td><td>July</td><td>270</td></tr>",
                            "<tr><td>Resort Hotel</td><td>September</td><td>255</td></tr>",
                            "<tr><td>Resort Hotel</td><td>February</td><td>240</td></tr>",
                            "<tr><td>Resort Hotel</td><td>June</td><td>237</td></tr>",
                            "<tr><td>Resort Hotel</td><td>December</td><td>219</td></tr>",
                            "<tr><td>Resort Hotel</td><td>November</td><td>202</td></tr>",
                            "<tr><td>Resort Hotel</td><td>January</td><td>129</td></tr>",
                            "</table>"
                        ]
                    }
                }
            ],
            "execution_count": 8
        },
        {
            "cell_type": "markdown",
            "source": [
                "To verify that our average number of guests is accurate, we will compare the results of July 2016 with the other years to see if the numbers are close."
            ],
            "metadata": {
                "azdata_cell_guid": "67627f74-8c68-499e-ab04-f403540ed23b"
            },
            "attachments": {}
        },
        {
            "cell_type": "code",
            "source": [
                "SELECT hotel,  arrival_date_year, (SUM(adults)+SUM(children)+SUM(babies))/12 as average\r\n",
                "FROM [dbo].[hotel_bookings]\r\n",
                "WHERE arrival_date_month = 'July'\r\n",
                "GROUP BY hotel, arrival_date_year\r\n",
                "ORDER BY hotel, arrival_date_year"
            ],
            "metadata": {
                "azdata_cell_guid": "454b5885-a1a5-4d89-9899-8e1e06171b62"
            },
            "outputs": [
                {
                    "output_type": "display_data",
                    "data": {
                        "text/html": "(6 rows affected)"
                    },
                    "metadata": {}
                },
                {
                    "output_type": "display_data",
                    "data": {
                        "text/html": "Total execution time: 00:00:00.131"
                    },
                    "metadata": {}
                },
                {
                    "output_type": "execute_result",
                    "execution_count": 20,
                    "data": {
                        "application/vnd.dataresource+json": {
                            "schema": {
                                "fields": [
                                    {
                                        "name": "hotel"
                                    },
                                    {
                                        "name": "arrival_date_year"
                                    },
                                    {
                                        "name": "average"
                                    }
                                ]
                            },
                            "data": [
                                {
                                    "0": "City Hotel",
                                    "1": "2015",
                                    "2": "223"
                                },
                                {
                                    "0": "City Hotel",
                                    "1": "2016",
                                    "2": "571"
                                },
                                {
                                    "0": "City Hotel",
                                    "1": "2017",
                                    "2": "638"
                                },
                                {
                                    "0": "Resort Hotel",
                                    "1": "2015",
                                    "2": "252"
                                },
                                {
                                    "0": "Resort Hotel",
                                    "1": "2016",
                                    "2": "270"
                                },
                                {
                                    "0": "Resort Hotel",
                                    "1": "2017",
                                    "2": "344"
                                }
                            ]
                        },
                        "text/html": "<table><tr><th>hotel</th><th>arrival_date_year</th><th>average</th></tr><tr><td>City Hotel</td><td>2015</td><td>223</td></tr><tr><td>City Hotel</td><td>2016</td><td>571</td></tr><tr><td>City Hotel</td><td>2017</td><td>638</td></tr><tr><td>Resort Hotel</td><td>2015</td><td>252</td></tr><tr><td>Resort Hotel</td><td>2016</td><td>270</td></tr><tr><td>Resort Hotel</td><td>2017</td><td>344</td></tr></table>"
                    },
                    "metadata": {}
                }
            ],
            "execution_count": 20
        },
        {
            "cell_type": "markdown",
            "source": [
                "We notice that the average number through the years is not too different, in fact, the number seems to be slowly increasing. There is also a noticeable difference between the average of July 2015 for City Hotel compared to the other years. As we know, our dataset started in July 2015 and we already determined that summer is the high season for City Hotel. Since we are missing data from before July, that may be the cause of the average number being skewed for the year 2015."
            ],
            "metadata": {
                "azdata_cell_guid": "b3ba8bd5-df27-44a0-adf0-e173df594a13"
            },
            "attachments": {}
        },
        {
            "cell_type": "markdown",
            "source": [
                "## 4\\. What is the best time of the year to book a hotel room?\n",
                "\n",
                "According to our table from question 3, we see that the lowest average of guests is either at the beginning of the year or at the end of the year. This may have an impact on our hotel rates and be the best time to book a hotel room. To confirm this hypothesis, let's take a look at the Average Daily Rate provided in our database to find the best time to make reservations.\n",
                "\n",
                "To find the best rate, we will first find the mean value of the Average Daily Rate (ADR) for each hotel and look for dates that have an ADR below the mean value."
            ],
            "metadata": {
                "azdata_cell_guid": "5a837b3c-af81-46e3-ad84-b212f914fe9c"
            },
            "attachments": {}
        },
        {
            "cell_type": "code",
            "source": [
                "SELECT hotel, ROUND((SUM(adr) / COUNT(*)), 2) as mean_value\r\n",
                "FROM [dbo].[hotel_bookings]\r\n",
                "GROUP BY hotel"
            ],
            "metadata": {
                "azdata_cell_guid": "446ec09a-15f9-4a58-9670-0f71e7b2ec5a"
            },
            "outputs": [
                {
                    "output_type": "display_data",
                    "data": {
                        "text/html": "(2 rows affected)"
                    },
                    "metadata": {}
                },
                {
                    "output_type": "display_data",
                    "data": {
                        "text/html": "Total execution time: 00:00:00.101"
                    },
                    "metadata": {}
                },
                {
                    "output_type": "execute_result",
                    "execution_count": 25,
                    "data": {
                        "application/vnd.dataresource+json": {
                            "schema": {
                                "fields": [
                                    {
                                        "name": "hotel"
                                    },
                                    {
                                        "name": "mean_value"
                                    }
                                ]
                            },
                            "data": [
                                {
                                    "0": "City Hotel",
                                    "1": "105.3"
                                },
                                {
                                    "0": "Resort Hotel",
                                    "1": "94.95"
                                }
                            ]
                        },
                        "text/html": "<table><tr><th>hotel</th><th>mean_value</th></tr><tr><td>City Hotel</td><td>105.3</td></tr><tr><td>Resort Hotel</td><td>94.95</td></tr></table>"
                    },
                    "metadata": {}
                }
            ],
            "execution_count": 25
        },
        {
            "cell_type": "markdown",
            "source": [
                "Now that we know our mean value, we could look for dates when the ADRs are below 105.3 for City Hotel and 94.95 for Resort Hotel. But something is not quite right. When looking at our data, we see negative and zero values."
            ],
            "metadata": {
                "azdata_cell_guid": "81b3c5cb-8800-4466-b20a-04cd5dd3f418"
            },
            "attachments": {}
        },
        {
            "cell_type": "code",
            "source": [
                "SELECT TOP(10) hotel, arrival_date_month,arrival_date_year, adr\r\n",
                "FROM [dbo].[hotel_bookings]\r\n",
                "WHERE adr < 105.3 \r\n",
                "ORDER BY adr"
            ],
            "metadata": {
                "azdata_cell_guid": "ade6cc0a-07b4-42b5-956d-0270ab702cb3"
            },
            "outputs": [
                {
                    "output_type": "display_data",
                    "data": {
                        "text/html": "(10 rows affected)"
                    },
                    "metadata": {}
                },
                {
                    "output_type": "display_data",
                    "data": {
                        "text/html": "Total execution time: 00:00:00.084"
                    },
                    "metadata": {}
                },
                {
                    "output_type": "execute_result",
                    "metadata": {},
                    "execution_count": 11,
                    "data": {
                        "application/vnd.dataresource+json": {
                            "schema": {
                                "fields": [
                                    {
                                        "name": "hotel"
                                    },
                                    {
                                        "name": "arrival_date_month"
                                    },
                                    {
                                        "name": "arrival_date_year"
                                    },
                                    {
                                        "name": "adr"
                                    }
                                ]
                            },
                            "data": [
                                {
                                    "0": "Resort Hotel",
                                    "1": "March",
                                    "2": "2017",
                                    "3": "-6.38"
                                },
                                {
                                    "0": "Resort Hotel",
                                    "1": "July",
                                    "2": "2015",
                                    "3": "0"
                                },
                                {
                                    "0": "Resort Hotel",
                                    "1": "July",
                                    "2": "2015",
                                    "3": "0"
                                },
                                {
                                    "0": "Resort Hotel",
                                    "1": "July",
                                    "2": "2015",
                                    "3": "0"
                                },
                                {
                                    "0": "Resort Hotel",
                                    "1": "July",
                                    "2": "2015",
                                    "3": "0"
                                },
                                {
                                    "0": "Resort Hotel",
                                    "1": "July",
                                    "2": "2015",
                                    "3": "0"
                                },
                                {
                                    "0": "Resort Hotel",
                                    "1": "July",
                                    "2": "2015",
                                    "3": "0"
                                },
                                {
                                    "0": "Resort Hotel",
                                    "1": "July",
                                    "2": "2015",
                                    "3": "0"
                                },
                                {
                                    "0": "City Hotel",
                                    "1": "January",
                                    "2": "2017",
                                    "3": "0"
                                },
                                {
                                    "0": "City Hotel",
                                    "1": "January",
                                    "2": "2017",
                                    "3": "0"
                                }
                            ]
                        },
                        "text/html": [
                            "<table>",
                            "<tr><th>hotel</th><th>arrival_date_month</th><th>arrival_date_year</th><th>adr</th></tr>",
                            "<tr><td>Resort Hotel</td><td>March</td><td>2017</td><td>-6.38</td></tr>",
                            "<tr><td>Resort Hotel</td><td>July</td><td>2015</td><td>0</td></tr>",
                            "<tr><td>Resort Hotel</td><td>July</td><td>2015</td><td>0</td></tr>",
                            "<tr><td>Resort Hotel</td><td>July</td><td>2015</td><td>0</td></tr>",
                            "<tr><td>Resort Hotel</td><td>July</td><td>2015</td><td>0</td></tr>",
                            "<tr><td>Resort Hotel</td><td>July</td><td>2015</td><td>0</td></tr>",
                            "<tr><td>Resort Hotel</td><td>July</td><td>2015</td><td>0</td></tr>",
                            "<tr><td>Resort Hotel</td><td>July</td><td>2015</td><td>0</td></tr>",
                            "<tr><td>City Hotel</td><td>January</td><td>2017</td><td>0</td></tr>",
                            "<tr><td>City Hotel</td><td>January</td><td>2017</td><td>0</td></tr>",
                            "</table>"
                        ]
                    }
                }
            ],
            "execution_count": 11
        },
        {
            "cell_type": "markdown",
            "source": [
                "In this case, we will treat those values as outliers and establish a minimal rate that is most likely to be the lowest ADR. We can establish the interquartile range (IQR) as a minimal value for our ADR and treat any value outside this range as an outlier. To do that, let's calculate the first and third quartile of both City Hotel and Resort Hotel."
            ],
            "metadata": {
                "azdata_cell_guid": "4f5a76ab-f480-48d0-9cf4-560adcba71d4"
            },
            "attachments": {}
        },
        {
            "cell_type": "code",
            "source": [
                "--City Hotel query\r\n",
                "SELECT\r\n",
                "\thotel, adr_quartile,\r\n",
                "\tMAX(adr) AS quartile_break\r\n",
                "FROM(\r\n",
                "\tSELECT\r\n",
                "    \thotel,\r\n",
                "\t\tadr,\r\n",
                "\t\tNTILE(4) OVER (ORDER BY adr) AS adr_quartile\r\n",
                "\tFROM [dbo].[hotel_bookings]\r\n",
                "\tWHERE hotel = 'City Hotel') AS quartiles\r\n",
                "WHERE adr_quartile IN (1, 3)\r\n",
                "GROUP BY hotel, adr_quartile\r\n",
                "--Resort Hotel query\r\n",
                "SELECT\r\n",
                "\thotel, adr_quartile,\r\n",
                "\tMAX(adr) AS quartile_break\r\n",
                "FROM(\r\n",
                "\tSELECT\r\n",
                "    \thotel,\r\n",
                "\t\tadr,\r\n",
                "\t\tNTILE(4) OVER (ORDER BY adr) AS adr_quartile\r\n",
                "\tFROM [dbo].[hotel_bookings]\r\n",
                "\tWHERE hotel = 'Resort Hotel') AS quartiles\r\n",
                "WHERE adr_quartile IN (1, 3)\r\n",
                "GROUP BY hotel, adr_quartile"
            ],
            "metadata": {
                "azdata_cell_guid": "b053bf15-7d6f-45bb-a3c2-74d00bbc78ed"
            },
            "outputs": [
                {
                    "output_type": "display_data",
                    "data": {
                        "text/html": "(2 rows affected)"
                    },
                    "metadata": {}
                },
                {
                    "output_type": "display_data",
                    "data": {
                        "text/html": "(2 rows affected)"
                    },
                    "metadata": {}
                },
                {
                    "output_type": "display_data",
                    "data": {
                        "text/html": "Total execution time: 00:00:00.515"
                    },
                    "metadata": {}
                },
                {
                    "output_type": "execute_result",
                    "metadata": {},
                    "execution_count": 14,
                    "data": {
                        "application/vnd.dataresource+json": {
                            "schema": {
                                "fields": [
                                    {
                                        "name": "hotel"
                                    },
                                    {
                                        "name": "adr_quartile"
                                    },
                                    {
                                        "name": "quartile_break"
                                    }
                                ]
                            },
                            "data": [
                                {
                                    "0": "City Hotel",
                                    "1": "1",
                                    "2": "79.2"
                                },
                                {
                                    "0": "City Hotel",
                                    "1": "3",
                                    "2": "126"
                                }
                            ]
                        },
                        "text/html": [
                            "<table>",
                            "<tr><th>hotel</th><th>adr_quartile</th><th>quartile_break</th></tr>",
                            "<tr><td>City Hotel</td><td>1</td><td>79.2</td></tr>",
                            "<tr><td>City Hotel</td><td>3</td><td>126</td></tr>",
                            "</table>"
                        ]
                    }
                },
                {
                    "output_type": "execute_result",
                    "metadata": {},
                    "execution_count": 14,
                    "data": {
                        "application/vnd.dataresource+json": {
                            "schema": {
                                "fields": [
                                    {
                                        "name": "hotel"
                                    },
                                    {
                                        "name": "adr_quartile"
                                    },
                                    {
                                        "name": "quartile_break"
                                    }
                                ]
                            },
                            "data": [
                                {
                                    "0": "Resort Hotel",
                                    "1": "1",
                                    "2": "50"
                                },
                                {
                                    "0": "Resort Hotel",
                                    "1": "3",
                                    "2": "125"
                                }
                            ]
                        },
                        "text/html": [
                            "<table>",
                            "<tr><th>hotel</th><th>adr_quartile</th><th>quartile_break</th></tr>",
                            "<tr><td>Resort Hotel</td><td>1</td><td>50</td></tr>",
                            "<tr><td>Resort Hotel</td><td>3</td><td>125</td></tr>",
                            "</table>"
                        ]
                    }
                }
            ],
            "execution_count": 14
        },
        {
            "cell_type": "markdown",
            "source": [
                "Now that we have our quartiles, we calculate the IQR and find the lowest ADR. In this case, the lowest ADR of City Hotel would be 46.8 and 75 for Resort Hotel. We can find now when is the best time to book a hotel room according to the lowest Average Daily Rate. Since our database has daily rates of three years, we will calculate the total average of those years to find the best month to make reservations."
            ],
            "metadata": {
                "azdata_cell_guid": "84eaf282-99e4-4179-92c4-db5de2dfc128"
            },
            "attachments": {}
        },
        {
            "cell_type": "code",
            "source": [
                "--City Hotel query\r\n",
                "SELECT hotel, arrival_date_month,ROUND(AVG( adr),2) as total_avg\r\n",
                "FROM [dbo].[hotel_bookings]\r\n",
                "WHERE adr > 46.8 and hotel = 'City Hotel' \r\n",
                "GROUP BY hotel, arrival_date_month\r\n",
                "ORDER BY total_avg\r\n",
                "--Resort Hotel query\r\n",
                "SELECT hotel, arrival_date_month,ROUND(AVG( adr),2) as total_avg\r\n",
                "FROM [dbo].[hotel_bookings]\r\n",
                "WHERE adr > 75 and hotel = 'Resort Hotel' \r\n",
                "GROUP BY hotel, arrival_date_month\r\n",
                "ORDER BY total_avg"
            ],
            "metadata": {
                "azdata_cell_guid": "7d09aa79-8391-492c-8511-b8ca06fef776"
            },
            "outputs": [
                {
                    "output_type": "display_data",
                    "data": {
                        "text/html": "(12 rows affected)"
                    },
                    "metadata": {}
                },
                {
                    "output_type": "display_data",
                    "data": {
                        "text/html": "(12 rows affected)"
                    },
                    "metadata": {}
                },
                {
                    "output_type": "display_data",
                    "data": {
                        "text/html": "Total execution time: 00:00:00.228"
                    },
                    "metadata": {}
                },
                {
                    "output_type": "execute_result",
                    "metadata": {},
                    "execution_count": 13,
                    "data": {
                        "application/vnd.dataresource+json": {
                            "schema": {
                                "fields": [
                                    {
                                        "name": "hotel"
                                    },
                                    {
                                        "name": "arrival_date_month"
                                    },
                                    {
                                        "name": "total_avg"
                                    }
                                ]
                            },
                            "data": [
                                {
                                    "0": "City Hotel",
                                    "1": "January",
                                    "2": "84.92"
                                },
                                {
                                    "0": "City Hotel",
                                    "1": "February",
                                    "2": "87.49"
                                },
                                {
                                    "0": "City Hotel",
                                    "1": "November",
                                    "2": "90.61"
                                },
                                {
                                    "0": "City Hotel",
                                    "1": "December",
                                    "2": "92.14"
                                },
                                {
                                    "0": "City Hotel",
                                    "1": "March",
                                    "2": "94.64"
                                },
                                {
                                    "0": "City Hotel",
                                    "1": "October",
                                    "2": "102.2"
                                },
                                {
                                    "0": "City Hotel",
                                    "1": "September",
                                    "2": "112.11"
                                },
                                {
                                    "0": "City Hotel",
                                    "1": "July",
                                    "2": "112.54"
                                },
                                {
                                    "0": "City Hotel",
                                    "1": "April",
                                    "2": "112.82"
                                },
                                {
                                    "0": "City Hotel",
                                    "1": "August",
                                    "2": "116.75"
                                },
                                {
                                    "0": "City Hotel",
                                    "1": "June",
                                    "2": "120.46"
                                },
                                {
                                    "0": "City Hotel",
                                    "1": "May",
                                    "2": "123.58"
                                }
                            ]
                        },
                        "text/html": [
                            "<table>",
                            "<tr><th>hotel</th><th>arrival_date_month</th><th>total_avg</th></tr>",
                            "<tr><td>City Hotel</td><td>January</td><td>84.92</td></tr>",
                            "<tr><td>City Hotel</td><td>February</td><td>87.49</td></tr>",
                            "<tr><td>City Hotel</td><td>November</td><td>90.61</td></tr>",
                            "<tr><td>City Hotel</td><td>December</td><td>92.14</td></tr>",
                            "<tr><td>City Hotel</td><td>March</td><td>94.64</td></tr>",
                            "<tr><td>City Hotel</td><td>October</td><td>102.2</td></tr>",
                            "<tr><td>City Hotel</td><td>September</td><td>112.11</td></tr>",
                            "<tr><td>City Hotel</td><td>July</td><td>112.54</td></tr>",
                            "<tr><td>City Hotel</td><td>April</td><td>112.82</td></tr>",
                            "<tr><td>City Hotel</td><td>August</td><td>116.75</td></tr>",
                            "<tr><td>City Hotel</td><td>June</td><td>120.46</td></tr>",
                            "<tr><td>City Hotel</td><td>May</td><td>123.58</td></tr>",
                            "</table>"
                        ]
                    }
                },
                {
                    "output_type": "execute_result",
                    "metadata": {},
                    "execution_count": 13,
                    "data": {
                        "application/vnd.dataresource+json": {
                            "schema": {
                                "fields": [
                                    {
                                        "name": "hotel"
                                    },
                                    {
                                        "name": "arrival_date_month"
                                    },
                                    {
                                        "name": "total_avg"
                                    }
                                ]
                            },
                            "data": [
                                {
                                    "0": "Resort Hotel",
                                    "1": "November",
                                    "2": "90.53"
                                },
                                {
                                    "0": "Resort Hotel",
                                    "1": "January",
                                    "2": "90.6"
                                },
                                {
                                    "0": "Resort Hotel",
                                    "1": "February",
                                    "2": "91.72"
                                },
                                {
                                    "0": "Resort Hotel",
                                    "1": "March",
                                    "2": "94.12"
                                },
                                {
                                    "0": "Resort Hotel",
                                    "1": "October",
                                    "2": "98.57"
                                },
                                {
                                    "0": "Resort Hotel",
                                    "1": "April",
                                    "2": "101.31"
                                },
                                {
                                    "0": "Resort Hotel",
                                    "1": "May",
                                    "2": "104.93"
                                },
                                {
                                    "0": "Resort Hotel",
                                    "1": "September",
                                    "2": "116.42"
                                },
                                {
                                    "0": "Resort Hotel",
                                    "1": "June",
                                    "2": "126"
                                },
                                {
                                    "0": "Resort Hotel",
                                    "1": "December",
                                    "2": "126.38"
                                },
                                {
                                    "0": "Resort Hotel",
                                    "1": "July",
                                    "2": "160.95"
                                },
                                {
                                    "0": "Resort Hotel",
                                    "1": "August",
                                    "2": "190.1"
                                }
                            ]
                        },
                        "text/html": [
                            "<table>",
                            "<tr><th>hotel</th><th>arrival_date_month</th><th>total_avg</th></tr>",
                            "<tr><td>Resort Hotel</td><td>November</td><td>90.53</td></tr>",
                            "<tr><td>Resort Hotel</td><td>January</td><td>90.6</td></tr>",
                            "<tr><td>Resort Hotel</td><td>February</td><td>91.72</td></tr>",
                            "<tr><td>Resort Hotel</td><td>March</td><td>94.12</td></tr>",
                            "<tr><td>Resort Hotel</td><td>October</td><td>98.57</td></tr>",
                            "<tr><td>Resort Hotel</td><td>April</td><td>101.31</td></tr>",
                            "<tr><td>Resort Hotel</td><td>May</td><td>104.93</td></tr>",
                            "<tr><td>Resort Hotel</td><td>September</td><td>116.42</td></tr>",
                            "<tr><td>Resort Hotel</td><td>June</td><td>126</td></tr>",
                            "<tr><td>Resort Hotel</td><td>December</td><td>126.38</td></tr>",
                            "<tr><td>Resort Hotel</td><td>July</td><td>160.95</td></tr>",
                            "<tr><td>Resort Hotel</td><td>August</td><td>190.1</td></tr>",
                            "</table>"
                        ]
                    }
                }
            ],
            "execution_count": 13
        },
        {
            "cell_type": "markdown",
            "source": [
                "<span style=\"font-size: 10.5pt; line-height: 107%; font-family: &quot;Segoe UI&quot;, sans-serif; background-image: initial; background-position: initial; background-size: initial; background-repeat: initial; background-attachment: initial; background-origin: initial; background-clip: initial;\">It seems that January, February, and November have the lowest daily average rate for either City Hotel or Resort Hotel. This makes sense once those months were at the bottom of our monthly average guests' table and at the bottom of our high season table.&nbsp;</span> \n",
                "\n",
                "## 5\\. Conclusion\n",
                "\n",
                "In this analysis, we explored the Hotel Booking dataset that contains over 100,000 rows of data using T-SQL and Microsoft SQL Server Management Studio. We started performing initial exploration of the data, such as querying the first rows and operating basic data cleaning (changing columns data type) as needed. Once the dataset was ready, we started our exploratory data analysis to find the high season of hotel booking demand and when is the best time to make hotel reservations.\n",
                "\n",
                "After querying our database to count how many reservations were made and grouping into months, we found that the highest season of City Hotel and Resort Hotel was during summer. We can confirm this analysis when calculating the monthly average number of guests and finding that the average is higher from May to October. Lastly, we used the Average Daily Rate (ADR) to find when it is the best time to make hotel reservations. We used statistics fundamentals to exclude outliers and calculated the total ADR average to find the month with the lowest rate. We concluded that January, February, and November have the lowest average rates hence it is the best time to book a hotel room."
            ],
            "metadata": {
                "azdata_cell_guid": "c84bc595-da6b-4879-b620-2a6ea26d675e"
            },
            "attachments": {}
        }
    ]
}